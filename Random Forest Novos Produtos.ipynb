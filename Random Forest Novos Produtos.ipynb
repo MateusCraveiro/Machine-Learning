{
 "cells": [
  {
   "cell_type": "code",
   "execution_count": 18,
   "id": "7cede681",
   "metadata": {},
   "outputs": [],
   "source": [
    "import pandas as pd\n",
    "import numpy as np\n",
    "from sklearn.model_selection import train_test_split\n",
    "from sklearn.ensemble import RandomForestClassifier\n",
    "from sklearn.metrics import accuracy_score\n",
    "from sklearn.preprocessing import LabelEncoder\n",
    "from sklearn.metrics import accuracy_score, precision_score, recall_score, f1_score, classification_report, confusion_matrix"
   ]
  },
  {
   "cell_type": "code",
   "execution_count": 19,
   "id": "64f94b84",
   "metadata": {},
   "outputs": [],
   "source": [
    "#Leitura do arquivo\n",
    "df = pd.read_excel(r'\\\\srv-ameixa\\Setores2\\Gerenciamento de Categorias\\00. NOVO GC\\7. Novos Produtos\\Desempenho Novos Produtos\\202306\\Análise Novos Produtos_202206.xlsx'\n",
    "                  ,sheet_name = 'random_forest')"
   ]
  },
  {
   "cell_type": "markdown",
   "id": "e1e33615",
   "metadata": {},
   "source": [
    "# Tratamento"
   ]
  },
  {
   "cell_type": "code",
   "execution_count": 20,
   "id": "01d3a52a",
   "metadata": {},
   "outputs": [],
   "source": [
    "#Tratamento\n",
    "df = df.dropna(subset=['TARGET']) #Considerando apenas produtos avaliados. Dropando demais linhas\n",
    "\n",
    "#Tratamento de colunas categoricas e numericas\n",
    "colunas_categoricas = ['Produto_novo','UF','DEPTO','SECAO','CATE',\n",
    "                       'SUBCATE','TARGET'] \n",
    "for col in colunas_categoricas:\n",
    "    df[col] = pd.Categorical(df[col])\n",
    "\n",
    "cols_numericas = ['LOJAS', 'RECEITA_POR_LOJA', 'RECEITA_POR_LOJA_SUBCATE', '%_PERDA', '%_PERDA_SUBCATE',\n",
    "              'NOTA_FINAL', 'NOTA_LB_%', 'NOTA_%_PERDA', 'NOTA_CRESCIMENTO_RECEITA', 'NOTA_VENDA_VS_SUBCATE']\n",
    "\n",
    "df[cols_numericas] = df[cols_numericas].astype('float32')\n",
    "\n",
    "df['COD'] = df['COD'].astype('int32')\n",
    "\n",
    "#Substituindo nulos por 0\n",
    "df['NOTA_FINAL'].fillna(0, inplace=True)\n",
    "df['%_PERDA'].fillna(0, inplace=True)\n",
    "df['RECEITA_POR_LOJA'].fillna(0, inplace=True)\n",
    "df['%_PERDA_SUBCATE'].fillna(0, inplace=True)"
   ]
  },
  {
   "cell_type": "markdown",
   "id": "7087e2de",
   "metadata": {},
   "source": [
    "# Modelagem"
   ]
  },
  {
   "cell_type": "code",
   "execution_count": 21,
   "id": "e07efb01",
   "metadata": {},
   "outputs": [],
   "source": [
    "df_processed = df.copy()\n",
    "target_values = df['TARGET'].unique()\n",
    "target_translation = pd.DataFrame({'TARGET': target_values})\n",
    "\n",
    "# Convert distinct values in each column to numbers\n",
    "for col in colunas_categoricas:\n",
    "    label_encoder = LabelEncoder()\n",
    "    col_values = df[col].unique()\n",
    "\n",
    "    if len(col_values) > 500:\n",
    "        print(f\"Skipping column '{col}' due to exceeding maximum distinct values.\")\n",
    "        continue\n",
    "\n",
    "    for i, value in enumerate(col_values):\n",
    "        if i >= 500:\n",
    "            print(f\"Reached maximum loops for column '{col}'.\")\n",
    "            break\n",
    "        df_processed[col] = np.where(df_processed[col] == value, i + 1, df_processed[col])\n",
    "#print(1)        \n",
    "        \n",
    "cols_numericas = ['LOJAS', 'RECEITA_POR_LOJA', 'RECEITA_POR_LOJA_SUBCATE', '%_PERDA', '%_PERDA_SUBCATE',\n",
    "              'NOTA_FINAL', 'NOTA_LB_%', 'NOTA_%_PERDA', 'NOTA_CRESCIMENTO_RECEITA', 'NOTA_VENDA_VS_SUBCATE']\n",
    "df[cols_numericas] = df[cols_numericas].astype('float32')\n",
    "\n",
    "df['COD'] = df['COD'].astype('int32')\n",
    "#print(2) \n",
    "\n",
    "X_processed = df_processed.drop(['TARGET'], axis=1)\n",
    "y_processed = df_processed['TARGET']\n",
    "\n",
    "#print(3)\n",
    "# Convert numeric columns back to categorical\n",
    "for col in colunas_categoricas:\n",
    "    if col != 'TARGET':\n",
    "        df_processed[col] = df_processed[col].astype('int32').astype('category')\n",
    "\n",
    "#Convert numeric columns back to categorical\n",
    "for col in colunas_categoricas:\n",
    "    if col != 'TARGET':\n",
    "        df_processed[col] = df_processed[col].astype('int32').astype('category')\n",
    "#print(4)\n",
    "\n",
    "# Convert the target variable to numeric encoding\n",
    "\n",
    "y_encoded = label_encoder.fit_transform(y_processed)\n",
    "\n",
    "# Train-test split on the processed data\n",
    "X_train, X_test, y_train, y_test = train_test_split(X_processed, y_encoded, test_size=0.3, random_state=42)\n",
    "\n",
    "# Create and fit the random forest classifier\n",
    "rf = RandomForestClassifier(random_state=42)\n",
    "rf.fit(X_train, y_train)\n",
    "\n",
    "# Make predictions on the test data\n",
    "y_pred = rf.predict(X_test)\n",
    "\n",
    "# Decode the predicted labels back to original categories\n",
    "y_pred_decoded = label_encoder.inverse_transform(y_pred)\n",
    "y_test_decoded = label_encoder.inverse_transform(y_test)"
   ]
  },
  {
   "cell_type": "markdown",
   "id": "b06dd12e",
   "metadata": {},
   "source": [
    "# Avaliação do Modelo"
   ]
  },
  {
   "cell_type": "code",
   "execution_count": 22,
   "id": "b9a36430",
   "metadata": {},
   "outputs": [
    {
     "name": "stdout",
     "output_type": "stream",
     "text": [
      "Accuracy: 0.9395973154362416\n",
      "Precision: 0.9373474988452027\n",
      "Recall: 0.9395973154362416\n",
      "F1 Score: 0.9377400059744728\n",
      "Classification Report:\n",
      "               precision    recall  f1-score   support\n",
      "\n",
      "           0       0.84      0.73      0.78        22\n",
      "           1       0.95      0.98      0.96       127\n",
      "\n",
      "    accuracy                           0.94       149\n",
      "   macro avg       0.90      0.85      0.87       149\n",
      "weighted avg       0.94      0.94      0.94       149\n",
      "\n",
      "Confusion Matrix:\n",
      " [[ 16   6]\n",
      " [  3 124]]\n"
     ]
    }
   ],
   "source": [
    "# Evaluate the model\n",
    "accuracy = accuracy_score(y_test, y_pred)\n",
    "precision = precision_score(y_test, y_pred, average='weighted')\n",
    "recall = recall_score(y_test, y_pred, average='weighted')\n",
    "f1 = f1_score(y_test, y_pred, average='weighted')\n",
    "classification_rep = classification_report(y_test, y_pred)\n",
    "confusion_mtx = confusion_matrix(y_test, y_pred)\n",
    "\n",
    "print(\"Accuracy:\", accuracy)\n",
    "print(\"Precision:\", precision)\n",
    "print(\"Recall:\", recall)\n",
    "print(\"F1 Score:\", f1)\n",
    "print(\"Classification Report:\\n\", classification_rep)\n",
    "print(\"Confusion Matrix:\\n\", confusion_mtx)"
   ]
  },
  {
   "cell_type": "code",
   "execution_count": 23,
   "id": "0c60496c",
   "metadata": {},
   "outputs": [],
   "source": [
    "X_test['Sugestao'] = y_test_decoded"
   ]
  },
  {
   "cell_type": "code",
   "execution_count": 24,
   "id": "13027cb5",
   "metadata": {},
   "outputs": [],
   "source": [
    "X_test.to_excel(r'C:\\Users\\mateus.craveiro\\OneDrive - Hortifruti Natural da Terra\\Área de Trabalho\\RF.xlsx')"
   ]
  }
 ],
 "metadata": {
  "kernelspec": {
   "display_name": "Python 3 (ipykernel)",
   "language": "python",
   "name": "python3"
  },
  "language_info": {
   "codemirror_mode": {
    "name": "ipython",
    "version": 3
   },
   "file_extension": ".py",
   "mimetype": "text/x-python",
   "name": "python",
   "nbconvert_exporter": "python",
   "pygments_lexer": "ipython3",
   "version": "3.9.13"
  }
 },
 "nbformat": 4,
 "nbformat_minor": 5
}
